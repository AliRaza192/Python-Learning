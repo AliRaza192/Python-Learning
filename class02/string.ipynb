{
 "cells": [
  {
   "cell_type": "markdown",
   "metadata": {},
   "source": [
    "String"
   ]
  },
  {
   "cell_type": "code",
   "execution_count": 1,
   "metadata": {},
   "outputs": [
    {
     "name": "stdout",
     "output_type": "stream",
     "text": [
      "Muhammad Raza\n"
     ]
    }
   ],
   "source": [
    "#string boundries\n",
    "# \"str\", 'str', '''str''', \"\"\"\"\"\"str\"\"\"\"\"\"\n",
    "# and bectik in typeSrcipt allow not python ``\n",
    "name : str = \"Muhammad Raza\"\n",
    "print(name)"
   ]
  },
  {
   "cell_type": "code",
   "execution_count": 3,
   "metadata": {},
   "outputs": [
    {
     "name": "stdout",
     "output_type": "stream",
     "text": [
      "Student's father name\n"
     ]
    }
   ],
   "source": [
    "#convert any special character into simple character, place \\ before character\n",
    "fname : str = \"Student\\'s father name\"\n",
    "print(fname)"
   ]
  },
  {
   "cell_type": "code",
   "execution_count": 9,
   "metadata": {},
   "outputs": [
    {
     "name": "stdout",
     "output_type": "stream",
     "text": [
      "PIAIC Student Card\n",
      "Student Name: Muhammad Raza\n",
      "Age: 24\n"
     ]
    }
   ],
   "source": [
    "#concadinate\n",
    "# concadination k liye zarori hai dono aik jese hun means agr pehla variable Str to dosra b Str hona chaye\n",
    "sname : str = \"Ali Raza\"\n",
    "fname : str = \"Muhammad Qasim\"\n",
    "educ : str = \"Python Course From PIAIC\"\n",
    "age : int = 24\n",
    "\n",
    "card : str = \"PIAIC Student Card\\nStudent Name: \"+ name + \"\\nAge: \" + str(age)\n",
    "print(card)"
   ]
  },
  {
   "cell_type": "code",
   "execution_count": 11,
   "metadata": {},
   "outputs": [
    {
     "name": "stdout",
     "output_type": "stream",
     "text": [
      "60\n",
      "60\n"
     ]
    }
   ],
   "source": [
    "# \"\\\" bactik line ko continue karne k liye lagaya jata hai , dono prints ka result aik jesa hai\n",
    "print(10 + 20 + 30)\n",
    "\n",
    "print(10 + \\\n",
    "      20 + \\\n",
    "        30)\n"
   ]
  },
  {
   "cell_type": "code",
   "execution_count": 2,
   "metadata": {},
   "outputs": [
    {
     "name": "stdout",
     "output_type": "stream",
     "text": [
      "\"\n",
      "PIAIC Student Card\n",
      "Student Name: .........\n",
      "Father Name: ..........\n",
      "Age: ......\n",
      "Eduacation: .........\n",
      "\n"
     ]
    }
   ],
   "source": [
    "# multi line string ko define karne k liye 3 double quatation \"\"\"\"\"\" \"\"\"\"\"\"\n",
    "sname : str = \"Ali Raza\"\n",
    "fname : str = \"Muhammad Qasim\"\n",
    "educ : str = \"Python Course From PIAIC\"\n",
    "age : int = 24\n",
    "educ : str = \"Python Course From PIAIC\"\n",
    "\n",
    "\n",
    "card : str = \"\"\"\"\n",
    "PIAIC Student Card\n",
    "Student Name: .........\n",
    "Father Name: ..........\n",
    "Age: ......\n",
    "Eduacation: .........\n",
    "\"\"\"\n",
    "print(card)"
   ]
  },
  {
   "cell_type": "markdown",
   "metadata": {},
   "source": [
    "## F_String \n"
   ]
  },
  {
   "cell_type": "code",
   "execution_count": 4,
   "metadata": {},
   "outputs": [
    {
     "name": "stdout",
     "output_type": "stream",
     "text": [
      "\"\n",
      "PIAIC Student Card\n",
      "Student Name: Ali Raza\n",
      "Father Name: Muhammad Qasim\n",
      "Age: 24\n",
      "Eduacation: Python Course From PIAIC\n",
      "\n"
     ]
    }
   ],
   "source": [
    "# f-string python ka buhat power full feature hai = k bad f lage se f string ban jay gaa \n",
    "# iska faida ye hai k ap kahin par b apne variable ko pass kar sakte hai {} ki madad se\n",
    "# dosra faida ye hai apko concadinate k liye apko convert karna parta hai jab k yahan par convert nai karna parh raha \n",
    "\n",
    "sname : str = \"Ali Raza\"\n",
    "fname : str = \"Muhammad Qasim\"\n",
    "educ : str = \"Python Course From PIAIC\"\n",
    "age : int = 24\n",
    "educ : str = \"Python Course From PIAIC\"\n",
    "\n",
    "\n",
    "card : str = f\"\"\"\"\n",
    "PIAIC Student Card\n",
    "Student Name: {sname}\n",
    "Father Name: {fname}\n",
    "Age: {age}\n",
    "Eduacation: {educ}\n",
    "\"\"\"\n",
    "print(card)"
   ]
  },
  {
   "cell_type": "markdown",
   "metadata": {},
   "source": [
    "## Jinga Style"
   ]
  },
  {
   "cell_type": "code",
   "execution_count": 8,
   "metadata": {},
   "outputs": [
    {
     "data": {
      "text/plain": [
       "'\\nstudenyt name {{name}}\\n\\n'"
      ]
     },
     "execution_count": 8,
     "metadata": {},
     "output_type": "execute_result"
    }
   ],
   "source": [
    "\"\"\"\n",
    "studenyt name {{name}}\n",
    "\n",
    "\"\"\""
   ]
  },
  {
   "cell_type": "code",
   "execution_count": null,
   "metadata": {},
   "outputs": [
    {
     "name": "stdout",
     "output_type": "stream",
     "text": [
      "Raza\n"
     ]
    }
   ],
   "source": [
    "name : str = \"raza\"\n",
    "print(name.capitalize())"
   ]
  },
  {
   "cell_type": "code",
   "execution_count": 13,
   "metadata": {},
   "outputs": [
    {
     "data": {
      "text/plain": [
       "'mere pass b = 5 thye jis me se mene a = 10 kharach kar diye'"
      ]
     },
     "execution_count": 13,
     "metadata": {},
     "output_type": "execute_result"
    }
   ],
   "source": [
    "a = 5\n",
    "b = 10\n",
    "\n",
    "#place holder\n",
    "\n",
    "\"mere pass b = {} the jis me se mene a = {} kharach kar diye\".format(a,b)"
   ]
  },
  {
   "cell_type": "code",
   "execution_count": 15,
   "metadata": {},
   "outputs": [
    {
     "name": "stdout",
     "output_type": "stream",
     "text": [
      "\"\n",
      "PIAIC Student Card\n",
      "Student Name: Ali Raza\n",
      "Father Name: Muhammad Qasim\n",
      "Age: Python Course From PIAIC\n",
      "Eduacation: 24\n",
      "\n"
     ]
    }
   ],
   "source": [
    "#string ka method format b f_string ki tarah kaam karta hai , but index num ka khayal rakhna pare gaa warna data kharab ho jay gaa\n",
    "\n",
    "sname : str = \"Ali Raza\"\n",
    "fname : str = \"Muhammad Qasim\"\n",
    "educ : str = \"Python Course From PIAIC\"\n",
    "age : int = 24\n",
    "\n",
    "\n",
    "card : str = \"\"\"\"\n",
    "PIAIC Student Card\n",
    "Student Name: {}\n",
    "Father Name: {}\n",
    "Age: {}\n",
    "Eduacation: {}\n",
    "\"\"\".format(sname, fname,  educ, age )\n",
    "print(card)"
   ]
  },
  {
   "cell_type": "code",
   "execution_count": 17,
   "metadata": {},
   "outputs": [
    {
     "name": "stdout",
     "output_type": "stream",
     "text": [
      "\"\n",
      "PIAIC Student Card\n",
      "Student Name: Ali Raza\n",
      "Father Name: Muhammad Qasim\n",
      "Age: 24\n",
      "Eduacation: Python Course From PIAIC\n",
      "\n"
     ]
    }
   ],
   "source": [
    "#format wale method me hum apne index num b de sakte hain\n",
    "sname : str = \"Ali Raza\"\n",
    "fname : str = \"Muhammad Qasim\"\n",
    "educ : str = \"Python Course From PIAIC\"\n",
    "age : int = 24\n",
    "\n",
    "\n",
    "card : str = \"\"\"\"\n",
    "PIAIC Student Card\n",
    "Student Name: {3}\n",
    "Father Name: {0}\n",
    "Age: {2}\n",
    "Eduacation: {1}\n",
    "\"\"\".format(fname, educ, age, sname, )\n",
    "print(card)"
   ]
  },
  {
   "cell_type": "code",
   "execution_count": 18,
   "metadata": {},
   "outputs": [
    {
     "name": "stdout",
     "output_type": "stream",
     "text": [
      "\"\n",
      "PIAIC Student Card\n",
      "Student Name: Ali Raza\n",
      "Father Name: Muhammad Qasim\n",
      "Age: Python Course From PIAIC\n",
      "Eduacation: 24\n",
      "\n"
     ]
    }
   ],
   "source": [
    "#index ki jagah par apna place holder b define kiya ja sakta hai ,\n",
    "#in sub me buhat lambi hai sub se best F_String hhai\n",
    "sname : str = \"Ali Raza\"\n",
    "fname : str = \"Muhammad Qasim\"\n",
    "educ : str = \"Python Course From PIAIC\"\n",
    "age : int = 24\n",
    "\n",
    "\n",
    "card : str = \"\"\"\"\n",
    "PIAIC Student Card\n",
    "Student Name: {a}\n",
    "Father Name: {b}\n",
    "Age: {c}\n",
    "Eduacation: {d}\n",
    "\"\"\".format(a=sname, b=fname, c=educ, d=age)\n",
    "print(card)"
   ]
  },
  {
   "cell_type": "code",
   "execution_count": 25,
   "metadata": {},
   "outputs": [
    {
     "data": {
      "text/plain": [
       "'   ALi   '"
      ]
     },
     "metadata": {},
     "output_type": "display_data"
    },
    {
     "data": {
      "text/plain": [
       "'ALi'"
      ]
     },
     "metadata": {},
     "output_type": "display_data"
    },
    {
     "data": {
      "text/plain": [
       "'ALi   '"
      ]
     },
     "metadata": {},
     "output_type": "display_data"
    },
    {
     "data": {
      "text/plain": [
       "['ALi']"
      ]
     },
     "metadata": {},
     "output_type": "display_data"
    }
   ],
   "source": [
    "myname : str = \"   ALi   \"\n",
    "display(myname)\n",
    "display(myname.strip()) # ye left or rigth har jagah se speace khatam deta hai\n",
    "display(myname.lstrip()) # left side wale speace ko khtam mkarta hai\n",
    "display(myname.rsplit())"
   ]
  },
  {
   "cell_type": "code",
   "execution_count": 4,
   "metadata": {},
   "outputs": [
    {
     "data": {
      "text/plain": [
       "'   Ali      Raza   '"
      ]
     },
     "metadata": {},
     "output_type": "display_data"
    },
    {
     "data": {
      "text/plain": [
       "'Ali Raza'"
      ]
     },
     "metadata": {},
     "output_type": "display_data"
    }
   ],
   "source": [
    "#regex ki madad se hum darmiyan wali speace ko khatam karte hain\n",
    "#display ka faida ye hota hai k jesa hum ne code kiya hai usko wesa hi show karta hai,\n",
    "#jub k print variable ko string ko convert kar k phir show karta hai\n",
    "import re\n",
    "\n",
    "name : str = \"   Ali      Raza   \"\n",
    "display(name)\n",
    "\n",
    "name1 : str = re.sub(' {3,100}', ' ', name).strip()\n",
    "display(name1)"
   ]
  },
  {
   "cell_type": "code",
   "execution_count": 11,
   "metadata": {},
   "outputs": [
    {
     "data": {
      "text/plain": [
       "'Hamza Ali'"
      ]
     },
     "metadata": {},
     "output_type": "display_data"
    },
    {
     "data": {
      "text/plain": [
       "'HAMZA ALI'"
      ]
     },
     "metadata": {},
     "output_type": "display_data"
    },
    {
     "data": {
      "text/plain": [
       "'hamza ali'"
      ]
     },
     "metadata": {},
     "output_type": "display_data"
    },
    {
     "data": {
      "text/plain": [
       "False"
      ]
     },
     "metadata": {},
     "output_type": "display_data"
    }
   ],
   "source": [
    "#tittle ki madad se har lafz ka pehla work upper case ho convert ho jay gaa\n",
    "name : str = \"hamza ali\"\n",
    "display(name.title())\n",
    "display(name.upper())\n",
    "display(name.lower())\n"
   ]
  },
  {
   "cell_type": "code",
   "execution_count": 13,
   "metadata": {},
   "outputs": [
    {
     "data": {
      "text/plain": [
       "'AliRaza'"
      ]
     },
     "metadata": {},
     "output_type": "display_data"
    }
   ],
   "source": [
    "fname : str = \"Ali\"\n",
    "lname : str = \"Raza\"\n",
    "full : str = f\"{fname} {lname}\"\n",
    "display(full)"
   ]
  },
  {
   "cell_type": "code",
   "execution_count": 21,
   "metadata": {},
   "outputs": [
    {
     "name": "stdout",
     "output_type": "stream",
     "text": [
      "Hello, Muhammad Raza!\n"
     ]
    }
   ],
   "source": [
    "name : str = \"muhammad\"\n",
    "name1 : str = \"raza\"\n",
    "full  = f\"{name} {name1}\"\n",
    "print(f\"Hello, {full.title()}!\")"
   ]
  },
  {
   "cell_type": "code",
   "execution_count": 25,
   "metadata": {},
   "outputs": [
    {
     "data": {
      "text/plain": [
       "'abcd.com'"
      ]
     },
     "execution_count": 25,
     "metadata": {},
     "output_type": "execute_result"
    }
   ],
   "source": [
    "#remove prefixes, start ko corector remove karta hai\n",
    "\n",
    "protocol  = \"https://abcd.com\"\n",
    "protocol.removeprefix(\"https://\")\n"
   ]
  },
  {
   "cell_type": "code",
   "execution_count": 27,
   "metadata": {},
   "outputs": [
    {
     "data": {
      "text/plain": [
       "'https://abcd.com'"
      ]
     },
     "execution_count": 27,
     "metadata": {},
     "output_type": "execute_result"
    }
   ],
   "source": [
    "#remove suffix last corector ko remove karta hai\n",
    "protocol  = \"https://abcd.com/docus\"\n",
    "protocol.removesuffix(\"/docus\")\n"
   ]
  }
 ],
 "metadata": {
  "kernelspec": {
   "display_name": "python12",
   "language": "python",
   "name": "python3"
  },
  "language_info": {
   "codemirror_mode": {
    "name": "ipython",
    "version": 3
   },
   "file_extension": ".py",
   "mimetype": "text/x-python",
   "name": "python",
   "nbconvert_exporter": "python",
   "pygments_lexer": "ipython3",
   "version": "3.12.0"
  }
 },
 "nbformat": 4,
 "nbformat_minor": 2
}
